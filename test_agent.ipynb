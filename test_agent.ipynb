{
 "cells": [
  {
   "cell_type": "code",
   "execution_count": 7,
   "metadata": {},
   "outputs": [
    {
     "data": {
      "text/plain": [
       "True"
      ]
     },
     "execution_count": 7,
     "metadata": {},
     "output_type": "execute_result"
    }
   ],
   "source": [
    "from agents import Agent, Runner\n",
    "from dotenv import load_dotenv\n",
    "\n",
    "load_dotenv()"
   ]
  },
  {
   "cell_type": "code",
   "execution_count": null,
   "metadata": {},
   "outputs": [],
   "source": [
    "english_agent = Agent(\n",
    "    name=\"Assistant\", \n",
    "    instructions= \"You are a helpful assistant. Respond in English\",\n",
    "    model=\"gpt-4o-mini-2024-07-18\"\n",
    "    )\n",
    "\n",
    "spanish_agent = Agent(\n",
    "    name=\"Assistant\", \n",
    "    instructions= \"Translate it into Latin American Spanish\",\n",
    "    model=\"gpt-4o-mini-2024-07-18\"\n",
    "    )"
   ]
  },
  {
   "cell_type": "code",
   "execution_count": 20,
   "metadata": {},
   "outputs": [
    {
     "name": "stdout",
     "output_type": "stream",
     "text": [
      "English Text:\n",
      "One of the standout verses by Bad Bunny is from his song \"Yo Perreo Sola.\" In this verse, he emphasizes empowerment and confidence, highlighting the importance of independence and enjoying oneself without needing a partner. The catchy flow and relatable message make it memorable and impactful. If you’d like, I can summarize the themes or discuss its meaning further!\n",
      "Spanish Text:\n",
      "Uno de los versos más destacados de Bad Bunny es de su canción \"Yo Perreo Sola.\" En este verso, enfatiza el empoderamiento y la confianza, subrayando la importancia de la independencia y disfrutar uno mismo sin necesidad de una pareja. El ritmo pegajoso y el mensaje identificable lo hacen memorable e impactante. ¡Si quieres, puedo resumir los temas o discutir su significado más a fondo!\n"
     ]
    }
   ],
   "source": [
    "english_result = await Runner.run(\n",
    "    english_agent, \n",
    "    \"Give me your favorite Bad Bunny song verse\"\n",
    "    )\n",
    "\n",
    "spanish_result = await Runner.run(\n",
    "    spanish_agent,\n",
    "    f\"Translate this text to Spanish: {english_result.final_output}\"\n",
    ")\n",
    "\n",
    "print(f\"English Text:\\n{english_result.final_output}\")\n",
    "print(f\"Spanish Text:\\n{spanish_result.final_output}\")"
   ]
  },
  {
   "cell_type": "markdown",
   "metadata": {},
   "source": [
    "Tool Calling definition:\n",
    "\n",
    "Lets your agents accesse your custom Python-or whatever language you use-functions"
   ]
  },
  {
   "cell_type": "code",
   "execution_count": 23,
   "metadata": {},
   "outputs": [
    {
     "name": "stdout",
     "output_type": "stream",
     "text": [
      "Getting weather for Medellín\n",
      "The weather in Medellín is good!\n"
     ]
    }
   ],
   "source": [
    "from agents import Agent, function_tool\n",
    "\n",
    "@function_tool\n",
    "def get_weather(city: str) -> str:\n",
    "    print(f\"Getting weather for {city}\")\n",
    "    return f\"Weather's good\"\n",
    "\n",
    "weather_agent = Agent(\n",
    "    name=\"Weather Agent\",\n",
    "    instructions=\"You tell the weather\",\n",
    "    tools=[get_weather]\n",
    ")\n",
    "\n",
    "weather_result = await Runner.run(\n",
    "    weather_agent,\n",
    "    \"What's the weather in Medellín?\"\n",
    ")\n",
    "\n",
    "print(weather_result.final_output)"
   ]
  },
  {
   "cell_type": "code",
   "execution_count": null,
   "metadata": {},
   "outputs": [
    {
     "name": "stdout",
     "output_type": "stream",
     "text": [
      "RunResult:\n",
      "- Last agent: Agent(name=\"Surfer\", ...)\n",
      "- Final output (str):\n",
      "    As of Friday, July 18, 2025, at 8:31 PM, the surf conditions at Waddell Creek, California, are as follows:\n",
      "    \n",
      "    - **Wave Height**: Approximately 3 to 4 feet. ([deepswell.com](https://deepswell.com/surf-report/US/Santa-Cruz-County/Waddell-Creek/1062?utm_source=openai))\n",
      "    \n",
      "    - **Swell**: A combination of long-period swell from the south-southwest (SSW) and short-to-medium period swell from the west-northwest (WNW), with a dominant period of 16 seconds. ([deepswell.com](https://deepswell.com/surf-report/US/Santa-Cruz-County/Waddell-Creek/1062?utm_source=openai))\n",
      "    \n",
      "    - **Wind**: Moderate, cross/sideshore from the west at around 6 mph. ([deepswell.com](https://deepswell.com/surf-report/US/Santa-Cruz-County/Waddell-Creek/1062?utm_source=openai))\n",
      "    \n",
      "    - **Water Temperature**: Approximately 55°F (13°C). ([deepswell.com](https://deepswell.com/surf-report/US/Santa-Cruz-County/Waddell-Creek/1062?utm_source=openai))\n",
      "    \n",
      "    - **Tides**:\n",
      "      - High tide of 5.5 feet at 5:02 PM.\n",
      "      - Low tide of 0.3 feet at 12:25 AM on July 19. ([surfline.com](https://www.surfline.com/tide-charts/waddell-creek/5842041f4e65fad6a7708980?utm_source=openai))\n",
      "    \n",
      "    Given the current conditions, Waddell Creek offers moderate surf suitable for various skill levels. The combination of SSW and WNW swells provides a mix of wave directions, and the moderate cross/sideshore winds may affect wave quality. The water temperature is cool, so a wetsuit is recommended. Be mindful of the tide changes, as they can influence wave behavior and beach access.\n",
      "    \n",
      "    ## Weather for Waddell Creek, CA:\n",
      "    Current Conditions: Mostly cloudy, 63°F (17°C)\n",
      "    \n",
      "    Daily Forecast:\n",
      "    * Friday, July 18: Low: 55°F (13°C), High: 69°F (20°C), Description: Cool with some clouds, then sunshine\n",
      "    * Saturday, July 19: Low: 55°F (13°C), High: 71°F (22°C), Description: Cool with clouds giving way to sun\n",
      "    * Sunday, July 20: Low: 55°F (13°C), High: 67°F (20°C), Description: Cool with clouds giving way to sun\n",
      "    * Monday, July 21: Low: 53°F (12°C), High: 66°F (19°C), Description: Cool with sunshine and a few clouds\n",
      "    * Tuesday, July 22: Low: 54°F (12°C), High: 65°F (18°C), Description: Partly sunny and remaining cool\n",
      "    * Wednesday, July 23: Low: 53°F (12°C), High: 75°F (24°C), Description: Mostly sunny and nice\n",
      "    * Thursday, July 24: Low: 52°F (11°C), High: 76°F (24°C), Description: Mostly sunny and comfortable\n",
      "     \n",
      "- 2 new item(s)\n",
      "- 1 raw response(s)\n",
      "- 0 input guardrail result(s)\n",
      "- 0 output guardrail result(s)\n",
      "(See `RunResult` for more details)\n",
      "As of Friday, July 18, 2025, at 8:31 PM, the surf conditions at Waddell Creek, California, are as follows:\n",
      "\n",
      "- **Wave Height**: Approximately 3 to 4 feet. ([deepswell.com](https://deepswell.com/surf-report/US/Santa-Cruz-County/Waddell-Creek/1062?utm_source=openai))\n",
      "\n",
      "- **Swell**: A combination of long-period swell from the south-southwest (SSW) and short-to-medium period swell from the west-northwest (WNW), with a dominant period of 16 seconds. ([deepswell.com](https://deepswell.com/surf-report/US/Santa-Cruz-County/Waddell-Creek/1062?utm_source=openai))\n",
      "\n",
      "- **Wind**: Moderate, cross/sideshore from the west at around 6 mph. ([deepswell.com](https://deepswell.com/surf-report/US/Santa-Cruz-County/Waddell-Creek/1062?utm_source=openai))\n",
      "\n",
      "- **Water Temperature**: Approximately 55°F (13°C). ([deepswell.com](https://deepswell.com/surf-report/US/Santa-Cruz-County/Waddell-Creek/1062?utm_source=openai))\n",
      "\n",
      "- **Tides**:\n",
      "  - High tide of 5.5 feet at 5:02 PM.\n",
      "  - Low tide of 0.3 feet at 12:25 AM on July 19. ([surfline.com](https://www.surfline.com/tide-charts/waddell-creek/5842041f4e65fad6a7708980?utm_source=openai))\n",
      "\n",
      "Given the current conditions, Waddell Creek offers moderate surf suitable for various skill levels. The combination of SSW and WNW swells provides a mix of wave directions, and the moderate cross/sideshore winds may affect wave quality. The water temperature is cool, so a wetsuit is recommended. Be mindful of the tide changes, as they can influence wave behavior and beach access.\n",
      "\n",
      "## Weather for Waddell Creek, CA:\n",
      "Current Conditions: Mostly cloudy, 63°F (17°C)\n",
      "\n",
      "Daily Forecast:\n",
      "* Friday, July 18: Low: 55°F (13°C), High: 69°F (20°C), Description: Cool with some clouds, then sunshine\n",
      "* Saturday, July 19: Low: 55°F (13°C), High: 71°F (22°C), Description: Cool with clouds giving way to sun\n",
      "* Sunday, July 20: Low: 55°F (13°C), High: 67°F (20°C), Description: Cool with clouds giving way to sun\n",
      "* Monday, July 21: Low: 53°F (12°C), High: 66°F (19°C), Description: Cool with sunshine and a few clouds\n",
      "* Tuesday, July 22: Low: 54°F (12°C), High: 65°F (18°C), Description: Partly sunny and remaining cool\n",
      "* Wednesday, July 23: Low: 53°F (12°C), High: 75°F (24°C), Description: Mostly sunny and nice\n",
      "* Thursday, July 24: Low: 52°F (11°C), High: 76°F (24°C), Description: Mostly sunny and comfortable\n",
      " \n"
     ]
    }
   ],
   "source": [
    "from agents import WebSearchTool\n",
    "\n",
    "#Fire Crawl to get free Web Search types\n",
    "\n",
    "# surf_reporter = Agent(\n",
    "#     name=\"Surfer\",\n",
    "#     instructions=\"You're a surf reporter that finds the most recent data on swell and wind conditions that are instrumental for surfers to know.\",\n",
    "#     tools=[WebSearchTool()]\n",
    "# )\n",
    "\n",
    "surf_result = await Runner.run(surf_reporter, \"What's the surf report today for Waddell Creek in CA?\")\n",
    "print(surf_result.final_output)"
   ]
  },
  {
   "cell_type": "markdown",
   "metadata": {},
   "source": [
    "Handoffs:\n",
    "Automatically pass off result of one agent to another without coding it intentionally"
   ]
  },
  {
   "cell_type": "code",
   "execution_count": 40,
   "metadata": {},
   "outputs": [
    {
     "name": "stdout",
     "output_type": "stream",
     "text": [
      "english=\"I don't care that they talk, I just want to feel the rhythm,\\nDance until the dawn, lose myself in the beat.\" spanish='No me importa que hablen, solo quiero sentir el ritmo,\\nBailar hasta el amanecer, perderme en el ritmo.'\n"
     ]
    }
   ],
   "source": [
    "from pydantic import BaseModel\n",
    "\n",
    "class Translator(BaseModel):\n",
    "    english: str\n",
    "    spanish: str\n",
    "\n",
    "class Lyrics(BaseModel):\n",
    "    lyrics_english: str\n",
    "\n",
    "spanish_agent_handoff = Agent(\n",
    "    name=\"Assistant\", \n",
    "    handoff_description=\"Used for translating languages into Latin American Spanish\",\n",
    "    instructions= (\n",
    "        \"You will be given a field called 'lyrics_english'. Return both the original English lyrics \"\n",
    "        \"and a translation in Latin American Spanish. Do not translate the English — keep it as is.\"\n",
    "    ),\n",
    "    model=\"gpt-4o-mini-2024-07-18\",\n",
    "    output_type=Translator\n",
    "    )\n",
    "\n",
    "english_agent_handoff = Agent(\n",
    "    name=\"Assistant\", \n",
    "    instructions= \"You are a helpful assistant that knows tons of Latin American and Spanish songs. Return song lyrics in English, then hand it off to the spanish agent.\",\n",
    "    model=\"gpt-4o-mini-2024-07-18\",\n",
    "    handoffs=[spanish_agent_handoff],\n",
    "    output_type=Lyrics\n",
    "    )\n",
    "\n",
    "handoff_test = await Runner.run(\n",
    "    english_agent_handoff,\n",
    "    \"Write out a short verse from a Bad Bunny song. Then include a spanish translation of the lyrics below the english lyrics.\"\n",
    ")\n",
    "\n",
    "print(handoff_test.final_output)"
   ]
  }
 ],
 "metadata": {
  "kernelspec": {
   "display_name": ".venv",
   "language": "python",
   "name": "python3"
  },
  "language_info": {
   "codemirror_mode": {
    "name": "ipython",
    "version": 3
   },
   "file_extension": ".py",
   "mimetype": "text/x-python",
   "name": "python",
   "nbconvert_exporter": "python",
   "pygments_lexer": "ipython3",
   "version": "3.13.5"
  }
 },
 "nbformat": 4,
 "nbformat_minor": 2
}
